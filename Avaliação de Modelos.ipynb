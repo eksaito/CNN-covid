{
 "cells": [
  {
   "cell_type": "markdown",
   "metadata": {},
   "source": [
    "# Avaliação de Modelos"
   ]
  },
  {
   "cell_type": "code",
   "execution_count": 1,
   "metadata": {},
   "outputs": [],
   "source": [
    "import tensorflow as tf\n",
    "from funcoes import getItem, gen_batch\n",
    "\n",
    "import numpy as np\n",
    "import matplotlib.pyplot as plt\n",
    "import os, argparse, pathlib\n",
    "from eval import eval"
   ]
  },
  {
   "cell_type": "code",
   "execution_count": 2,
   "metadata": {},
   "outputs": [],
   "source": [
    "# Definicao de Parametros\n",
    "trainFile = 'train_split.txt'\n",
    "valFile = 'val_split.txt'\n",
    "testFile = 'test_split.txt'\n",
    "datadir = '..\\\\data\\\\'\n",
    "trainDir = 'train'\n",
    "valDir = 'train'\n",
    "testDir = 'test'\n",
    "covid_percent= 0.3\n",
    "input_size = 480\n",
    "top_percent = 0.08\n",
    "batch_size = 10\n",
    "modelo = 'covid_5ep_cnn_model.h5'"
   ]
  },
  {
   "cell_type": "code",
   "execution_count": 3,
   "metadata": {},
   "outputs": [],
   "source": [
    "generator_test = gen_batch(data_dir = datadir,\n",
    "              tipo_dir = testDir,\n",
    "              csv_file = testFile,\n",
    "              batch_size = batch_size,\n",
    "              input_shape = (input_size, input_size),\n",
    "              num_channels = 3,\n",
    "              covid_percent = covid_percent,\n",
    "              top_percent = top_percent)"
   ]
  },
  {
   "cell_type": "code",
   "execution_count": 4,
   "metadata": {},
   "outputs": [],
   "source": [
    "model = tf.keras.models.load_model(modelo)"
   ]
  },
  {
   "cell_type": "code",
   "execution_count": 5,
   "metadata": {},
   "outputs": [
    {
     "name": "stdout",
     "output_type": "stream",
     "text": [
      "147\n",
      "147/147 [==============================] - 31s 211ms/step - loss: 0.8509 - accuracy: 0.6259\n"
     ]
    }
   ],
   "source": [
    "test_loss, test_acc = model.evaluate(generator_test, steps = 147)"
   ]
  },
  {
   "cell_type": "code",
   "execution_count": 6,
   "metadata": {},
   "outputs": [],
   "source": [
    "con_mat = np.zeros((3,3))\n",
    "pred = np.array([])\n",
    "labels = np.array([])\n",
    "for item in range(0,147):\n",
    "    testX, testY = next(generator_test)\n",
    "    aux = model.predict(testX)\n",
    "    pred = np.concatenate((pred,np.argmax(aux, axis=1)))\n",
    "    labels = np.concatenate((labels,testY))"
   ]
  },
  {
   "cell_type": "code",
   "execution_count": 7,
   "metadata": {},
   "outputs": [],
   "source": [
    "from sklearn.metrics import classification_report, confusion_matrix"
   ]
  },
  {
   "cell_type": "code",
   "execution_count": 8,
   "metadata": {},
   "outputs": [
    {
     "name": "stdout",
     "output_type": "stream",
     "text": [
      "              precision    recall  f1-score   support\n",
      "\n",
      "         0.0       0.60      0.90      0.72       608\n",
      "         1.0       0.72      0.49      0.58       421\n",
      "         2.0       0.66      0.41      0.50       441\n",
      "\n",
      "    accuracy                           0.63      1470\n",
      "   macro avg       0.66      0.60      0.60      1470\n",
      "weighted avg       0.65      0.63      0.62      1470\n",
      "\n"
     ]
    }
   ],
   "source": [
    "print(classification_report(labels,pred))"
   ]
  },
  {
   "cell_type": "code",
   "execution_count": 9,
   "metadata": {},
   "outputs": [
    {
     "name": "stdout",
     "output_type": "stream",
     "text": [
      "[[548  41  19]\n",
      " [141 205  75]\n",
      " [222  39 180]]\n"
     ]
    }
   ],
   "source": [
    "print(confusion_matrix(labels,pred))"
   ]
  },
  {
   "cell_type": "code",
   "execution_count": 10,
   "metadata": {},
   "outputs": [
    {
     "data": {
      "text/plain": [
       "0.40816326530612246"
      ]
     },
     "execution_count": 10,
     "metadata": {},
     "output_type": "execute_result"
    }
   ],
   "source": [
    "con_mat = confusion_matrix(labels,pred)\n",
    "sensibilidade = con_mat[2,2] / (con_mat[2,2] + con_mat[2,0] + con_mat[2,1])\n",
    "sensibilidade"
   ]
  },
  {
   "cell_type": "code",
   "execution_count": 11,
   "metadata": {},
   "outputs": [
    {
     "data": {
      "text/plain": [
       "0.656934306569343"
      ]
     },
     "execution_count": 11,
     "metadata": {},
     "output_type": "execute_result"
    }
   ],
   "source": [
    "PPV = con_mat[2,2] / (con_mat[2,2] + con_mat[0,2] + con_mat[1,2])\n",
    "PPV"
   ]
  },
  {
   "cell_type": "code",
   "execution_count": null,
   "metadata": {},
   "outputs": [],
   "source": []
  }
 ],
 "metadata": {
  "kernelspec": {
   "display_name": "Python 3",
   "language": "python",
   "name": "python3"
  },
  "language_info": {
   "codemirror_mode": {
    "name": "ipython",
    "version": 3
   },
   "file_extension": ".py",
   "mimetype": "text/x-python",
   "name": "python",
   "nbconvert_exporter": "python",
   "pygments_lexer": "ipython3",
   "version": "3.7.6"
  }
 },
 "nbformat": 4,
 "nbformat_minor": 4
}
